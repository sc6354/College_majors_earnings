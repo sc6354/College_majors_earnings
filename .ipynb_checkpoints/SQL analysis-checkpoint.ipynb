{
 "cells": [
  {
   "cell_type": "code",
   "execution_count": 1,
   "metadata": {},
   "outputs": [],
   "source": [
    "import pandas as pd\n",
    "from pandasql import sqldf\n",
    "pysqldf = lambda q: sqldf(q, globals())\n"
   ]
  },
  {
   "cell_type": "code",
   "execution_count": 2,
   "metadata": {},
   "outputs": [],
   "source": [
    "df = pd.read_csv('https://raw.githubusercontent.com/fivethirtyeight/data/master/college-majors/recent-grads.csv')\n"
   ]
  },
  {
   "cell_type": "code",
   "execution_count": 3,
   "metadata": {},
   "outputs": [],
   "source": [
    "df['Major'] = df['Major'].str.title()\n"
   ]
  },
  {
   "cell_type": "code",
   "execution_count": 4,
   "metadata": {},
   "outputs": [
    {
     "name": "stdout",
     "output_type": "stream",
     "text": [
      "   Rank  Major_code                                      Major    Total  \\\n",
      "0     1        2419                      Petroleum Engineering   2339.0   \n",
      "1     2        2416             Mining And Mineral Engineering    756.0   \n",
      "2     3        2415                  Metallurgical Engineering    856.0   \n",
      "3     4        2417  Naval Architecture And Marine Engineering   1258.0   \n",
      "4     5        2405                       Chemical Engineering  32260.0   \n",
      "\n",
      "       Men    Women Major_category  ShareWomen  Sample_size  Employed  ...  \\\n",
      "0   2057.0    282.0    Engineering    0.120564           36      1976  ...   \n",
      "1    679.0     77.0    Engineering    0.101852            7       640  ...   \n",
      "2    725.0    131.0    Engineering    0.153037            3       648  ...   \n",
      "3   1123.0    135.0    Engineering    0.107313           16       758  ...   \n",
      "4  21239.0  11021.0    Engineering    0.341631          289     25694  ...   \n",
      "\n",
      "   Part_time  Full_time_year_round  Unemployed  Unemployment_rate  Median  \\\n",
      "0        270                  1207          37           0.018381  110000   \n",
      "1        170                   388          85           0.117241   75000   \n",
      "2        133                   340          16           0.024096   73000   \n",
      "3        150                   692          40           0.050125   70000   \n",
      "4       5180                 16697        1672           0.061098   65000   \n",
      "\n",
      "   P25th   P75th  College_jobs  Non_college_jobs  Low_wage_jobs  \n",
      "0  95000  125000          1534               364            193  \n",
      "1  55000   90000           350               257             50  \n",
      "2  50000  105000           456               176              0  \n",
      "3  43000   80000           529               102              0  \n",
      "4  50000   75000         18314              4440            972  \n",
      "\n",
      "[5 rows x 21 columns]\n"
     ]
    }
   ],
   "source": [
    "query = 'SELECT * FROM df LIMIT 5'\n",
    "results = pysqldf(query)\n",
    "print(results.head())\n"
   ]
  },
  {
   "cell_type": "markdown",
   "metadata": {},
   "source": [
    "## 1. What majors have more than 50% share of women? How does the unemployment rate for these majors compare to the average unemployment rate of all majors?"
   ]
  },
  {
   "cell_type": "code",
   "execution_count": 5,
   "metadata": {},
   "outputs": [
    {
     "name": "stdout",
     "output_type": "stream",
     "text": [
      "                                            Major  ShareWomen  \\\n",
      "0                       Early Childhood Education    0.968954   \n",
      "1   Communication Disorders Sciences And Services    0.967998   \n",
      "2                      Medical Assisting Services    0.927807   \n",
      "3                            Elementary Education    0.923745   \n",
      "4                    Family And Consumer Sciences    0.910933   \n",
      "..                                            ...         ...   \n",
      "91                           Biochemical Sciences    0.515406   \n",
      "92    Social Science Or History Teacher Education    0.507377   \n",
      "93                                          Music    0.506721   \n",
      "94                                      Chemistry    0.505141   \n",
      "95  Physical Fitness Parks Recreation And Leisure    0.502846   \n",
      "\n",
      "    Unemployment_rate  rate_diff  \n",
      "0            0.040105  -0.028086  \n",
      "1            0.047584  -0.020607  \n",
      "2            0.042507  -0.025684  \n",
      "3            0.046586  -0.021605  \n",
      "4            0.067128  -0.001063  \n",
      "..                ...        ...  \n",
      "91           0.080531   0.012341  \n",
      "92           0.054083  -0.014108  \n",
      "93           0.075960   0.007769  \n",
      "94           0.053972  -0.014218  \n",
      "95           0.051467  -0.016724  \n",
      "\n",
      "[96 rows x 4 columns]\n"
     ]
    }
   ],
   "source": [
    "query = '''SELECT Major,\n",
    "                  ShareWomen, \n",
    "                  Unemployment_rate, \n",
    "                  Unemployment_rate - (SELECT AVG(Unemployment_rate) FROM df) AS rate_diff \n",
    "           FROM df WHERE ShareWomen > .5 \n",
    "           ORDER BY ShareWomen DESC \n",
    "        '''\n",
    "print(pysqldf(query))\n",
    "\n"
   ]
  },
  {
   "cell_type": "markdown",
   "metadata": {},
   "source": [
    "## 2. Do majors with more than 90% female grads have a lower average unemployment rate than the overall average unemployment rate?"
   ]
  },
  {
   "cell_type": "code",
   "execution_count": 6,
   "metadata": {},
   "outputs": [
    {
     "name": "stdout",
     "output_type": "stream",
     "text": [
      "   avg_rate_90_women_share  avg_rate\n",
      "0                 0.049008  0.068191\n"
     ]
    }
   ],
   "source": [
    "query = '''SELECT AVG(t1.Unemployment_rate) AS avg_rate_90_women_share, \n",
    "                  t2.avg_rate \n",
    "           FROM (SELECT Major, \n",
    "                        ShareWomen, \n",
    "                        Unemployment_rate \n",
    "                 FROM df \n",
    "                 WHERE ShareWomen > .9\n",
    "                 ) t1\n",
    "           JOIN (SELECT AVG(Unemployment_rate) AS avg_rate \n",
    "                 FROM df\n",
    "                 ) t2\n",
    "'''\n",
    "print(pysqldf(query))\n",
    "\n"
   ]
  },
  {
   "cell_type": "markdown",
   "metadata": {},
   "source": [
    "## 3. Are there any majors with no female graduates?"
   ]
  },
  {
   "cell_type": "code",
   "execution_count": 7,
   "metadata": {},
   "outputs": [
    {
     "name": "stdout",
     "output_type": "stream",
     "text": [
      "                   Major  ShareWomen\n",
      "0  Military Technologies         0.0\n"
     ]
    }
   ],
   "source": [
    "query = '''SELECT Major, \n",
    "                  ShareWomen \n",
    "           FROM df \n",
    "           WHERE ShareWomen <= 0 \n",
    "           ORDER BY ShareWomen DESC \n",
    "        '''\n",
    "print(pysqldf(query))\n",
    "\n"
   ]
  },
  {
   "cell_type": "markdown",
   "metadata": {},
   "source": [
    "## 4. Find the number of majors and the number of graduates working in each category."
   ]
  },
  {
   "cell_type": "code",
   "execution_count": 8,
   "metadata": {},
   "outputs": [
    {
     "name": "stdout",
     "output_type": "stream",
     "text": [
      "                         Major_category  num_of_majors  num_of_grad\n",
      "0                              Business             13    1302376.0\n",
      "1             Humanities & Liberal Arts             15     713468.0\n",
      "2                             Education             16     559129.0\n",
      "3                           Engineering             29     537583.0\n",
      "4                        Social Science              9     529966.0\n",
      "5              Psychology & Social Work              9     481007.0\n",
      "6                                Health             12     463230.0\n",
      "7                Biology & Life Science             14     453862.0\n",
      "8           Communications & Journalism              4     392601.0\n",
      "9                                  Arts              8     357130.0\n",
      "10              Computers & Mathematics             11     299008.0\n",
      "11  Industrial Arts & Consumer Services              7     229792.0\n",
      "12                    Physical Sciences             10     185479.0\n",
      "13                  Law & Public Policy              5     179107.0\n",
      "14      Agriculture & Natural Resources             10      75620.0\n",
      "15                    Interdisciplinary              1      12296.0\n"
     ]
    }
   ],
   "source": [
    "query = '''SELECT Major_category, \n",
    "                  COUNT(*) AS num_of_majors, \n",
    "                  SUM(Total) AS num_of_grad \n",
    "           FROM df \n",
    "           GROUP BY Major_category \n",
    "           ORDER BY SUM(Total) DESC\n",
    "        '''\n",
    "print(pysqldf(query))\n",
    "\n"
   ]
  },
  {
   "cell_type": "markdown",
   "metadata": {},
   "source": [
    "## 5. What is the average share of women in each major category?"
   ]
  },
  {
   "cell_type": "code",
   "execution_count": 9,
   "metadata": {},
   "outputs": [
    {
     "name": "stdout",
     "output_type": "stream",
     "text": [
      "                         Major_category  avg_share\n",
      "0                                Health   0.795152\n",
      "1              Psychology & Social Work   0.794397\n",
      "2                     Interdisciplinary   0.770901\n",
      "3                             Education   0.748507\n",
      "4           Communications & Journalism   0.658384\n",
      "5             Humanities & Liberal Arts   0.631790\n",
      "6                                  Arts   0.603658\n",
      "7                Biology & Life Science   0.587193\n",
      "8                        Social Science   0.553962\n",
      "9                     Physical Sciences   0.508683\n",
      "10                  Law & Public Policy   0.483649\n",
      "11                             Business   0.483198\n",
      "12      Agriculture & Natural Resources   0.405267\n",
      "13  Industrial Arts & Consumer Services   0.349523\n",
      "14              Computers & Mathematics   0.311772\n",
      "15                          Engineering   0.238889\n"
     ]
    }
   ],
   "source": [
    "query = '''SELECT Major_category, \n",
    "                  AVG(ShareWomen) AS avg_share \n",
    "           FROM df GROUP \n",
    "           BY Major_category \n",
    "           ORDER BY AVG(ShareWomen) DESC\n",
    "\n",
    "        '''\n",
    "print(pysqldf(query))\n",
    "\n"
   ]
  },
  {
   "cell_type": "markdown",
   "metadata": {},
   "source": [
    "## 6. For the major category with the lowest average share, find the difference between the major share and the category share sorted by the difference descending."
   ]
  },
  {
   "cell_type": "code",
   "execution_count": 10,
   "metadata": {},
   "outputs": [
    {
     "name": "stdout",
     "output_type": "stream",
     "text": [
      "                                          Major  ShareWomen  \\\n",
      "0                                  Architecture    0.451465   \n",
      "1                        Biomedical Engineering    0.437847   \n",
      "2                     Architectural Engineering    0.350442   \n",
      "3      Industrial And Manufacturing Engineering    0.343473   \n",
      "4                     Environmental Engineering    0.342229   \n",
      "5                          Chemical Engineering    0.341631   \n",
      "6   Materials Engineering And Materials Science    0.325092   \n",
      "7        Geological And Geophysical Engineering    0.322222   \n",
      "8                        Biological Engineering    0.320784   \n",
      "9                             Materials Science    0.310820   \n",
      "10            Electrical Engineering Technology    0.292607   \n",
      "11                          General Engineering    0.252960   \n",
      "12                     Engineering Technologies    0.251389   \n",
      "13           Industrial Production Technologies    0.249190   \n",
      "14                            Civil Engineering    0.227118   \n",
      "15       Miscellaneous Engineering Technologies    0.200023   \n",
      "16                         Computer Engineering    0.199413   \n",
      "17                       Electrical Engineering    0.196450   \n",
      "18                    Miscellaneous Engineering    0.189970   \n",
      "19    Engineering Mechanics Physics And Science    0.183985   \n",
      "20        Engineering And Industrial Management    0.174123   \n",
      "21                    Metallurgical Engineering    0.153037   \n",
      "22                          Nuclear Engineering    0.144967   \n",
      "23                        Aerospace Engineering    0.139793   \n",
      "24                        Petroleum Engineering    0.120564   \n",
      "25                       Mechanical Engineering    0.119559   \n",
      "26    Naval Architecture And Marine Engineering    0.107313   \n",
      "27               Mining And Mineral Engineering    0.101852   \n",
      "28  Mechanical Engineering Related Technologies    0.077453   \n",
      "\n",
      "    ShareWomen-cat_share  \n",
      "0               0.212576  \n",
      "1               0.198958  \n",
      "2               0.111554  \n",
      "3               0.104585  \n",
      "4               0.103340  \n",
      "5               0.102742  \n",
      "6               0.086203  \n",
      "7               0.083334  \n",
      "8               0.081896  \n",
      "9               0.071932  \n",
      "10              0.053718  \n",
      "11              0.014071  \n",
      "12              0.012500  \n",
      "13              0.010302  \n",
      "14             -0.011771  \n",
      "15             -0.038866  \n",
      "16             -0.039476  \n",
      "17             -0.042438  \n",
      "18             -0.048918  \n",
      "19             -0.054903  \n",
      "20             -0.064766  \n",
      "21             -0.085851  \n",
      "22             -0.093922  \n",
      "23             -0.099096  \n",
      "24             -0.118324  \n",
      "25             -0.119330  \n",
      "26             -0.131575  \n",
      "27             -0.137037  \n",
      "28             -0.161436  \n"
     ]
    }
   ],
   "source": [
    "query = '''SELECT Major, \n",
    "                  ShareWomen, \n",
    "                  ShareWomen-cat_share \n",
    "           FROM df \n",
    "           JOIN (SELECT Major_category, \n",
    "                        MIN(avg_share) AS cat_share \n",
    "                 FROM (SELECT Major_category,\n",
    "                              AVG(ShareWomen) AS avg_share \n",
    "                       FROM df \n",
    "                       GROUP BY Major_category)\n",
    "                ) t1 \n",
    "            ON df.Major_category = t1.Major_category \n",
    "            ORDER BY ShareWomen-cat_share DESC\n",
    "\n",
    "        '''\n",
    "print(pysqldf(query))\n",
    "\n"
   ]
  },
  {
   "cell_type": "markdown",
   "metadata": {},
   "source": [
    "## 7. Which major has the highest unemployment rate and lowest salary?"
   ]
  },
  {
   "cell_type": "code",
   "execution_count": 11,
   "metadata": {},
   "outputs": [
    {
     "name": "stdout",
     "output_type": "stream",
     "text": [
      "             Major  Unemployment_rate  Median_salary  ShareWomen\n",
      "0  Library Science           0.177226          22000     0.87796\n"
     ]
    }
   ],
   "source": [
    "query = '''SELECT Major, \n",
    "                  MAX(Unemployment_rate) AS Unemployment_rate, \n",
    "                  MIN(Median) AS Median_salary, \n",
    "                  ShareWomen \n",
    "           FROM df\n",
    "        '''\n",
    "print(pysqldf(query))\n",
    "\n"
   ]
  },
  {
   "cell_type": "markdown",
   "metadata": {},
   "source": [
    "## 8. Do the major(s) with the lowest unemployment rate have the highest 75th percentile salary?  "
   ]
  },
  {
   "cell_type": "code",
   "execution_count": 12,
   "metadata": {},
   "outputs": [
    {
     "name": "stdout",
     "output_type": "stream",
     "text": [
      "                                        Major  Unemployment_rate  P75th  \\\n",
      "0            Mathematics And Computer Science                0.0  78000   \n",
      "1                       Military Technologies                0.0  40000   \n",
      "2                                      Botany                0.0  40000   \n",
      "3                                Soil Science                0.0  44000   \n",
      "4  Educational Administration And Supervision                0.0  35000   \n",
      "\n",
      "   highest_75th  \n",
      "0        125000  \n",
      "1        125000  \n",
      "2        125000  \n",
      "3        125000  \n",
      "4        125000  \n"
     ]
    }
   ],
   "source": [
    "query = '''SELECT Major, \n",
    "                  Unemployment_rate, \n",
    "                  P75th, \n",
    "                  (SELECT MAX(P75th) AS Unemployment_rate \n",
    "                   FROM df) AS highest_75th \n",
    "           FROM df \n",
    "           WHERE Unemployment_rate = (SELECT MIN(Unemployment_rate) \n",
    "                                      FROM df)\n",
    "        '''\n",
    "print(pysqldf(query))\n"
   ]
  },
  {
   "cell_type": "markdown",
   "metadata": {},
   "source": [
    "## 9. Rank each major category by their average median salary."
   ]
  },
  {
   "cell_type": "code",
   "execution_count": 13,
   "metadata": {},
   "outputs": [
    {
     "name": "stdout",
     "output_type": "stream",
     "text": [
      "                         Major_category   AVG(Median)  \\\n",
      "0                           Engineering  57382.758621   \n",
      "1                              Business  43538.461538   \n",
      "2               Computers & Mathematics  42745.454545   \n",
      "3                   Law & Public Policy  42200.000000   \n",
      "4                     Physical Sciences  41890.000000   \n",
      "5                        Social Science  37344.444444   \n",
      "6       Agriculture & Natural Resources  36900.000000   \n",
      "7                                Health  36825.000000   \n",
      "8                Biology & Life Science  36421.428571   \n",
      "9   Industrial Arts & Consumer Services  36342.857143   \n",
      "10                    Interdisciplinary  35000.000000   \n",
      "11          Communications & Journalism  34500.000000   \n",
      "12                                 Arts  33062.500000   \n",
      "13                            Education  32350.000000   \n",
      "14            Humanities & Liberal Arts  31913.333333   \n",
      "15             Psychology & Social Work  30100.000000   \n",
      "\n",
      "    ROW_NUMBER() OVER(ORDER BY AVG(Median) DESC)  \n",
      "0                                              1  \n",
      "1                                              2  \n",
      "2                                              3  \n",
      "3                                              4  \n",
      "4                                              5  \n",
      "5                                              6  \n",
      "6                                              7  \n",
      "7                                              8  \n",
      "8                                              9  \n",
      "9                                             10  \n",
      "10                                            11  \n",
      "11                                            12  \n",
      "12                                            13  \n",
      "13                                            14  \n",
      "14                                            15  \n",
      "15                                            16  \n"
     ]
    }
   ],
   "source": [
    "query = '''SELECT Major_category, \n",
    "                  AVG(Median), \n",
    "                  ROW_NUMBER() OVER(ORDER BY AVG(Median) DESC) \n",
    "           FROM df \n",
    "           GROUP BY Major_category\n",
    "        '''\n",
    "print(pysqldf(query))\n"
   ]
  },
  {
   "cell_type": "markdown",
   "metadata": {},
   "source": [
    "## 10. Rank each major by unemployment rate within each major category."
   ]
  },
  {
   "cell_type": "code",
   "execution_count": 14,
   "metadata": {},
   "outputs": [
    {
     "name": "stdout",
     "output_type": "stream",
     "text": [
      "                                 Major                   Major_category  \\\n",
      "0                         Food Science  Agriculture & Natural Resources   \n",
      "1                             Forestry  Agriculture & Natural Resources   \n",
      "2               Agricultural Economics  Agriculture & Natural Resources   \n",
      "3         Natural Resources Management  Agriculture & Natural Resources   \n",
      "4            Miscellaneous Agriculture  Agriculture & Natural Resources   \n",
      "..                                 ...                              ...   \n",
      "168                        Criminology                   Social Science   \n",
      "169            International Relations                   Social Science   \n",
      "170  Interdisciplinary Social Sciences                   Social Science   \n",
      "171                          Sociology                   Social Science   \n",
      "172      Miscellaneous Social Sciences                   Social Science   \n",
      "\n",
      "     Unemployment_rate  \\\n",
      "0             0.096931   \n",
      "1             0.096726   \n",
      "2             0.077250   \n",
      "3             0.066619   \n",
      "4             0.059767   \n",
      "..                 ...   \n",
      "168           0.097244   \n",
      "169           0.096799   \n",
      "170           0.092306   \n",
      "171           0.084951   \n",
      "172           0.073080   \n",
      "\n",
      "     ROW_NUMBER() OVER(PARTITION BY Major_category ORDER BY Unemployment_rate DESC)  \n",
      "0                                                    1                               \n",
      "1                                                    2                               \n",
      "2                                                    3                               \n",
      "3                                                    4                               \n",
      "4                                                    5                               \n",
      "..                                                 ...                               \n",
      "168                                                  5                               \n",
      "169                                                  6                               \n",
      "170                                                  7                               \n",
      "171                                                  8                               \n",
      "172                                                  9                               \n",
      "\n",
      "[173 rows x 4 columns]\n"
     ]
    }
   ],
   "source": [
    "query = '''SELECT Major, \n",
    "                  Major_category, \n",
    "                  Unemployment_rate, \n",
    "                  ROW_NUMBER() OVER(PARTITION BY Major_category ORDER BY Unemployment_rate DESC) \n",
    "           FROM df\n",
    "        '''\n",
    "print(pysqldf(query))"
   ]
  }
 ],
 "metadata": {
  "kernelspec": {
   "display_name": "Python 3",
   "language": "python",
   "name": "python3"
  },
  "language_info": {
   "codemirror_mode": {
    "name": "ipython",
    "version": 3
   },
   "file_extension": ".py",
   "mimetype": "text/x-python",
   "name": "python",
   "nbconvert_exporter": "python",
   "pygments_lexer": "ipython3",
   "version": "3.8.3"
  }
 },
 "nbformat": 4,
 "nbformat_minor": 2
}
